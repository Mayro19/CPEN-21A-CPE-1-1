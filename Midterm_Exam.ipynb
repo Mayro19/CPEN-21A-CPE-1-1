{
  "nbformat": 4,
  "nbformat_minor": 0,
  "metadata": {
    "colab": {
      "name": "Midterm Exam.ipynb",
      "provenance": [],
      "authorship_tag": "ABX9TyNqZOSgfHE4YV8g44DTZQS8",
      "include_colab_link": true
    },
    "kernelspec": {
      "name": "python3",
      "display_name": "Python 3"
    },
    "language_info": {
      "name": "python"
    }
  },
  "cells": [
    {
      "cell_type": "markdown",
      "metadata": {
        "id": "view-in-github",
        "colab_type": "text"
      },
      "source": [
        "<a href=\"https://colab.research.google.com/github/Mayro19/CPEN-21A-CPE-1-1/blob/main/Midterm_Exam.ipynb\" target=\"_parent\"><img src=\"https://colab.research.google.com/assets/colab-badge.svg\" alt=\"Open In Colab\"/></a>"
      ]
    },
    {
      "cell_type": "code",
      "metadata": {
        "id": "uFDjbuPxf51v"
      },
      "source": [
        ""
      ],
      "execution_count": null,
      "outputs": []
    },
    {
      "cell_type": "markdown",
      "metadata": {
        "id": "JxzYM92ph4fy"
      },
      "source": [
        "##Midterm Exam"
      ]
    },
    {
      "cell_type": "markdown",
      "metadata": {
        "id": "ov-f0c34mO8M"
      },
      "source": [
        "####Problem Statement 1"
      ]
    },
    {
      "cell_type": "code",
      "metadata": {
        "colab": {
          "base_uri": "https://localhost:8080/"
        },
        "id": "YK2dWaazkVa1",
        "outputId": "e8a7dc40-8572-4cc2-f11e-7c894c45f101"
      },
      "source": [
        "a=\"Miro G. Angeles\"\n",
        "b=\"202101487\"\n",
        "c=\"18\"\n",
        "d=\"June 19, 2003\"\n",
        "e=\"Parklane Homes, General Trias, Cavite\"\n",
        "f=\"BSCpE 1-1\"\n",
        "g=\"1.00\"\n",
        "\n",
        "print('Full Name:'+' '+ a)\n",
        "print('Student number:'+' '+ b)\n",
        "print('Age:'+' '+ c)\n",
        "print('Birthday:'+' '+ d)\n",
        "print('Address:'+' '+ e)\n",
        "print('Course:'+' '+ f)\n",
        "print('GWA:'+' '+ g)"
      ],
      "execution_count": 9,
      "outputs": [
        {
          "output_type": "stream",
          "name": "stdout",
          "text": [
            "Full Name: Miro G. Angeles\n",
            "Student number: 202101487\n",
            "Age: 18\n",
            "Birthday: June 19, 2003\n",
            "Address: Parklane Homes, General Trias, Cavite\n",
            "Course: BSCpE 1-1\n",
            "GWA: 1.00\n"
          ]
        }
      ]
    },
    {
      "cell_type": "markdown",
      "metadata": {
        "id": "queMWckumi1s"
      },
      "source": [
        "####Problem Statement 2"
      ]
    },
    {
      "cell_type": "code",
      "metadata": {
        "colab": {
          "base_uri": "https://localhost:8080/"
        },
        "id": "DQBtThHxmoVr",
        "outputId": "7c210dd4-406f-4156-e4ed-77068ea8d47f"
      },
      "source": [
        "n = 4\n",
        "answ = \"Y\"\n",
        "\n",
        "print((2<n) and (n<6))\n",
        "print((2<n) or (n==6))\n",
        "print(not(2<n) or (n==6))\n",
        "print(not(n<6))\n",
        "print((answ=='Y') or (answ=='y'))\n",
        "print((answ=='Y') and (answ=='y'))\n",
        "print(not(answ=='y'))\n",
        "print((2<n) and (n==5+1)) or (answ=='No')\n",
        "print(((n==2) and (n==7)) or (answ==\"Y\"))\n",
        "print(n==2) and ((n==7) or (answ==\"Y\"))"
      ],
      "execution_count": 39,
      "outputs": [
        {
          "output_type": "stream",
          "name": "stdout",
          "text": [
            "True\n",
            "True\n",
            "False\n",
            "False\n",
            "True\n",
            "False\n",
            "True\n",
            "False\n",
            "True\n",
            "False\n"
          ]
        }
      ]
    },
    {
      "cell_type": "markdown",
      "metadata": {
        "id": "Y260pMA3mo30"
      },
      "source": [
        "####Problem Statement 3"
      ]
    },
    {
      "cell_type": "code",
      "metadata": {
        "colab": {
          "base_uri": "https://localhost:8080/"
        },
        "id": "9qSJSxQMmrl8",
        "outputId": "4fd3fa14-5b9e-4ad9-9f29-3f9e2729e096"
      },
      "source": [
        "x = 2\n",
        "y = -3\n",
        "w = 7\n",
        "z = -10\n",
        "\n",
        "print(x/y)\n",
        "print(w/y/x)\n",
        "print(z/y%x)\n",
        "print(x%-y*w)\n",
        "print(x%y)\n",
        "print(z%w-y/x*5+5)\n",
        "print(9-x%(2+y))\n",
        "print(z//w)\n",
        "print((2+y)**2)\n",
        "print(w/x*2)"
      ],
      "execution_count": 19,
      "outputs": [
        {
          "output_type": "stream",
          "name": "stdout",
          "text": [
            "-0.6666666666666666\n",
            "-1.1666666666666667\n",
            "1.3333333333333335\n",
            "14\n",
            "-1\n",
            "16.5\n",
            "9\n",
            "-2\n",
            "1\n",
            "7.0\n"
          ]
        }
      ]
    }
  ]
}