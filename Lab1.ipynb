{
  "nbformat": 4,
  "nbformat_minor": 0,
  "metadata": {
    "colab": {
      "name": "Lab1.ipynb",
      "provenance": [],
      "authorship_tag": "ABX9TyNCTigIe1l0LDjhhl5Ygn8Z",
      "include_colab_link": true
    },
    "kernelspec": {
      "name": "python3",
      "display_name": "Python 3"
    },
    "language_info": {
      "name": "python"
    }
  },
  "cells": [
    {
      "cell_type": "markdown",
      "metadata": {
        "id": "view-in-github",
        "colab_type": "text"
      },
      "source": [
        "<a href=\"https://colab.research.google.com/github/Mayro19/CPEN-21A-CPE-1-1/blob/main/Lab1.ipynb\" target=\"_parent\"><img src=\"https://colab.research.google.com/assets/colab-badge.svg\" alt=\"Open In Colab\"/></a>"
      ]
    },
    {
      "cell_type": "markdown",
      "metadata": {
        "id": "VjncL4eTV_Zn"
      },
      "source": [
        "##Laboratory 1"
      ]
    },
    {
      "cell_type": "code",
      "metadata": {
        "colab": {
          "base_uri": "https://localhost:8080/"
        },
        "id": "_i1LlZw_Xph9",
        "outputId": "2e5dddb4-be0f-47a8-fbec-d4f1586c63a3"
      },
      "source": [
        "Display = \"Welcome to Python Programming\"\n",
        "print(Display)"
      ],
      "execution_count": 11,
      "outputs": [
        {
          "output_type": "stream",
          "name": "stdout",
          "text": [
            "Welcome to Python Programming\n"
          ]
        }
      ]
    },
    {
      "cell_type": "code",
      "metadata": {
        "colab": {
          "base_uri": "https://localhost:8080/"
        },
        "id": "t6NrXB63X0n0",
        "outputId": "965dcd19-ff91-4c12-a829-1496d2cdcfc0"
      },
      "source": [
        "Name = \"Miro G. Angeles\"\n",
        "Address = \"Phase 4, Blk10, Lot14, Parklane Homes, Brgy. San Francisco, General Trias, Cavite\"\n",
        "Age = \"18 years old\"\n",
        "\n",
        "print(Name)\n",
        "print(Address)\n",
        "print(Age)"
      ],
      "execution_count": 13,
      "outputs": [
        {
          "output_type": "stream",
          "name": "stdout",
          "text": [
            "Miro G. Angeles\n",
            "Phase 4, Blk10, Lot14, Parklane Homes, Brgy. San Francisco, General Trias, Cavite\n",
            "18 years old\n"
          ]
        }
      ]
    }
  ]
}