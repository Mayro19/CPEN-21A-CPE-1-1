{
  "nbformat": 4,
  "nbformat_minor": 0,
  "metadata": {
    "colab": {
      "name": "Expressions_and_Operations.ipynb",
      "provenance": [],
      "collapsed_sections": [],
      "toc_visible": true,
      "include_colab_link": true
    },
    "kernelspec": {
      "name": "python3",
      "display_name": "Python 3"
    },
    "language_info": {
      "name": "python"
    }
  },
  "cells": [
    {
      "cell_type": "markdown",
      "metadata": {
        "id": "view-in-github",
        "colab_type": "text"
      },
      "source": [
        "<a href=\"https://colab.research.google.com/github/Mayro19/CPEN-21A-CPE-1-1/blob/main/Expressions_and_Operations.ipynb\" target=\"_parent\"><img src=\"https://colab.research.google.com/assets/colab-badge.svg\" alt=\"Open In Colab\"/></a>"
      ]
    },
    {
      "cell_type": "markdown",
      "metadata": {
        "id": "jUo6pCmff6VX"
      },
      "source": [
        "#Boolean Operators\n",
        "###Boolean represent one of two values: True or False"
      ]
    },
    {
      "cell_type": "code",
      "metadata": {
        "colab": {
          "base_uri": "https://localhost:8080/"
        },
        "id": "oO15_9UKeXPs",
        "outputId": "75ac0544-510b-470b-be48-cd77750a31cf"
      },
      "source": [
        "print(10>9)\n",
        "print(10==9)\n",
        "print(9<10)\n",
        "print(10!=9)"
      ],
      "execution_count": null,
      "outputs": [
        {
          "output_type": "stream",
          "name": "stdout",
          "text": [
            "True\n",
            "False\n",
            "True\n",
            "True\n"
          ]
        }
      ]
    },
    {
      "cell_type": "code",
      "metadata": {
        "colab": {
          "base_uri": "https://localhost:8080/"
        },
        "id": "3yvjFEP-ftPR",
        "outputId": "861079c1-f5e2-4363-c8d8-3750a9153c69"
      },
      "source": [
        "print(bool(\"Hello Wolrd!\"))\n",
        "print(bool(None))\n",
        "print(bool(True))\n",
        "print(bool(1))\n",
        "print(bool(0))\n",
        "print(bool([]))"
      ],
      "execution_count": null,
      "outputs": [
        {
          "output_type": "stream",
          "name": "stdout",
          "text": [
            "True\n",
            "False\n",
            "True\n",
            "True\n",
            "False\n",
            "False\n"
          ]
        }
      ]
    },
    {
      "cell_type": "code",
      "metadata": {
        "colab": {
          "base_uri": "https://localhost:8080/"
        },
        "id": "z3HukDjLhlaK",
        "outputId": "5e16771c-f183-404d-bf08-707c032a092a"
      },
      "source": [
        "def myFunction():return True\n",
        "\n",
        "print(myFunction())"
      ],
      "execution_count": null,
      "outputs": [
        {
          "output_type": "stream",
          "name": "stdout",
          "text": [
            "True\n"
          ]
        }
      ]
    },
    {
      "cell_type": "code",
      "metadata": {
        "colab": {
          "base_uri": "https://localhost:8080/"
        },
        "id": "ajQHwoHFiLE_",
        "outputId": "2317d37a-1ef2-48e0-e691-c534550590b1"
      },
      "source": [
        "#boolean answer of a function\n",
        "def myFunction():return False\n",
        "\n",
        "if myFunction():\n",
        "  print(\"Yes!\")\n",
        "else:\n",
        "    print(\"No!\")"
      ],
      "execution_count": null,
      "outputs": [
        {
          "output_type": "stream",
          "name": "stdout",
          "text": [
            "No!\n"
          ]
        }
      ]
    },
    {
      "cell_type": "code",
      "metadata": {
        "colab": {
          "base_uri": "https://localhost:8080/"
        },
        "id": "ZUeYVbdxipvF",
        "outputId": "a4b38696-5ede-4f85-f6d3-612559f739b4"
      },
      "source": [
        "a=6\n",
        "b=7\n",
        "print(a==b)\n",
        "print(a!=a)"
      ],
      "execution_count": null,
      "outputs": [
        {
          "output_type": "stream",
          "name": "stdout",
          "text": [
            "False\n",
            "False\n"
          ]
        }
      ]
    },
    {
      "cell_type": "code",
      "metadata": {
        "colab": {
          "base_uri": "https://localhost:8080/"
        },
        "id": "4Bpo7OqSi8FX",
        "outputId": "e935ea82-d5e4-4b80-8777-728761c29406"
      },
      "source": [
        "print(10+5)\n",
        "print(10-5)\n",
        "print(10/5)\n",
        "print(10*5)\n",
        "print(10//5) #floor division shows whole number\n",
        "print(10//3)\n",
        "print(10//3)\n",
        "print(10%3) #modulo gets the remainder of the number\n",
        "print(10**2) #concatenation (square)"
      ],
      "execution_count": null,
      "outputs": [
        {
          "output_type": "stream",
          "name": "stdout",
          "text": [
            "15\n",
            "5\n",
            "2.0\n",
            "50\n",
            "2\n",
            "3\n",
            "3\n",
            "1\n",
            "100\n"
          ]
        }
      ]
    },
    {
      "cell_type": "code",
      "metadata": {
        "colab": {
          "base_uri": "https://localhost:8080/",
          "height": 136
        },
        "id": "M3nWICxPk2W8",
        "outputId": "10d62de7-93a2-445e-fa04-6a883ebc1b9c"
      },
      "source": [
        "a=60 #0011 1100\n",
        "b=13\n",
        "print(a&b)\n",
        "print(a|b)\n",
        "print(a<<1) # 0111 1000\n",
        "print(a<<2) # 1111 0000\n",
        "print(a>>1) # 0001 1110\n",
        "print(a>>2) # 0000 1111\n",
        "\n",
        "bin(60)"
      ],
      "execution_count": null,
      "outputs": [
        {
          "output_type": "stream",
          "name": "stdout",
          "text": [
            "12\n",
            "61\n",
            "120\n",
            "240\n",
            "30\n",
            "15\n"
          ]
        },
        {
          "output_type": "execute_result",
          "data": {
            "application/vnd.google.colaboratory.intrinsic+json": {
              "type": "string"
            },
            "text/plain": [
              "'0b111100'"
            ]
          },
          "metadata": {},
          "execution_count": 28
        }
      ]
    },
    {
      "cell_type": "code",
      "metadata": {
        "colab": {
          "base_uri": "https://localhost:8080/"
        },
        "id": "ZD-Vp0_8qFTL",
        "outputId": "11383de1-e94f-410a-b799-4ce24a120712"
      },
      "source": [
        "a+=2 # same as a= a+2, a= 60+2, a=62\n",
        "print(a)"
      ],
      "execution_count": null,
      "outputs": [
        {
          "output_type": "stream",
          "name": "stdout",
          "text": [
            "68\n"
          ]
        }
      ]
    },
    {
      "cell_type": "markdown",
      "metadata": {
        "id": "4E8rRDJGqt39"
      },
      "source": [
        "#LOGICAL OPERATORS"
      ]
    },
    {
      "cell_type": "code",
      "metadata": {
        "colab": {
          "base_uri": "https://localhost:8080/"
        },
        "id": "vsRL15Lyqs2e",
        "outputId": "abf123e8-b3da-43fe-d44b-64ae203e897f"
      },
      "source": [
        "a= True\n",
        "b= False\n",
        "print(a and b)\n",
        "print(a or b)\n",
        "\n",
        "print((a>b) and (a<b))\n",
        "print((a>b) or (a<b))\n",
        "print(not(a>b))\n"
      ],
      "execution_count": null,
      "outputs": [
        {
          "output_type": "stream",
          "name": "stdout",
          "text": [
            "False\n",
            "True\n",
            "False\n",
            "True\n",
            "False\n"
          ]
        },
        {
          "output_type": "execute_result",
          "data": {
            "text/plain": [
              "False"
            ]
          },
          "metadata": {},
          "execution_count": 39
        }
      ]
    },
    {
      "cell_type": "markdown",
      "metadata": {
        "id": "HpHLQ-Zqtfz6"
      },
      "source": [
        "#IDENTITY OPERATORS"
      ]
    },
    {
      "cell_type": "code",
      "metadata": {
        "colab": {
          "base_uri": "https://localhost:8080/"
        },
        "id": "yChj7h8ks9em",
        "outputId": "4e42044d-00db-4b1b-9e85-1d941da0f31c"
      },
      "source": [
        "a=60\n",
        "b=60\n",
        "print(a is b)\n",
        "print(a is not b)"
      ],
      "execution_count": null,
      "outputs": [
        {
          "output_type": "stream",
          "name": "stdout",
          "text": [
            "True\n",
            "False\n"
          ]
        }
      ]
    },
    {
      "cell_type": "code",
      "metadata": {
        "colab": {
          "base_uri": "https://localhost:8080/"
        },
        "id": "XgPymLuJs9Wz",
        "outputId": "79f5fb5e-5b37-40a6-90a3-6bcdd71a8b81"
      },
      "source": [
        "a=60\n",
        "b=13\n",
        "print(a is b)\n",
        "print(a is not b)"
      ],
      "execution_count": null,
      "outputs": [
        {
          "output_type": "stream",
          "name": "stdout",
          "text": [
            "False\n",
            "True\n"
          ]
        }
      ]
    }
  ]
}