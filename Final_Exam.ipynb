{
  "nbformat": 4,
  "nbformat_minor": 0,
  "metadata": {
    "colab": {
      "name": "Final Exam.ipynb",
      "provenance": [],
      "authorship_tag": "ABX9TyP7+qNswX5vaq/edRpe/XbO",
      "include_colab_link": true
    },
    "kernelspec": {
      "name": "python3",
      "display_name": "Python 3"
    },
    "language_info": {
      "name": "python"
    }
  },
  "cells": [
    {
      "cell_type": "markdown",
      "metadata": {
        "id": "view-in-github",
        "colab_type": "text"
      },
      "source": [
        "<a href=\"https://colab.research.google.com/github/Mayro19/CPEN-21A-CPE-1-1/blob/main/Final_Exam.ipynb\" target=\"_parent\"><img src=\"https://colab.research.google.com/assets/colab-badge.svg\" alt=\"Open In Colab\"/></a>"
      ]
    },
    {
      "cell_type": "markdown",
      "source": [
        "#Final Exam"
      ],
      "metadata": {
        "id": "1Z6Oyk-WIdXI"
      }
    },
    {
      "cell_type": "markdown",
      "source": [
        "###Problem Statement 1"
      ],
      "metadata": {
        "id": "FviKzfr9IiBV"
      }
    },
    {
      "cell_type": "code",
      "source": [
        "sum = 0\n",
        "number =[-6, -4, -3, -1, 0, 1, 2, 3, 4, 5]\n",
        "for x in (number):\n",
        "  sum = sum + x\n",
        "print(sum)"
      ],
      "metadata": {
        "colab": {
          "base_uri": "https://localhost:8080/"
        },
        "id": "Kltmf-kQIn2V",
        "outputId": "ab4b27c6-f472-4fcb-d781-342e7198fa54"
      },
      "execution_count": 6,
      "outputs": [
        {
          "output_type": "stream",
          "name": "stdout",
          "text": [
            "1\n"
          ]
        }
      ]
    },
    {
      "cell_type": "markdown",
      "source": [
        "###Problem Statement 2"
      ],
      "metadata": {
        "id": "1PfOCNgxOvDE"
      }
    },
    {
      "cell_type": "code",
      "source": [
        "number = int(input(\"1st number: \"))\n",
        "while(number!=0):\n",
        "  m = int(input(\"2nd number: \"))\n",
        "  i = int(input(\"3rd number: \"))\n",
        "  r = int(input(\"4th number: \"))\n",
        "  o = int(input(\"5th number: \"))\n",
        "  g = 0\n",
        "  a = o\n",
        "  while (x >=10):\n",
        "    x = x // 10\n",
        "  g = number + a\n",
        "  print(g)\n",
        "  number -= 1\n",
        "  break"
      ],
      "metadata": {
        "colab": {
          "base_uri": "https://localhost:8080/"
        },
        "id": "MuD_4SpQOxmD",
        "outputId": "f4c82c4a-9317-4399-960f-e9e7fb8c41b1"
      },
      "execution_count": null,
      "outputs": [
        {
          "output_type": "stream",
          "name": "stdout",
          "text": [
            "1st number: 1000\n",
            "2nd number: 21\n",
            "3rd number: 23\n",
            "4th number: 54\n",
            "5th number: 4000\n",
            "5000\n"
          ]
        }
      ]
    },
    {
      "cell_type": "markdown",
      "source": [
        "###Problem Statement 3"
      ],
      "metadata": {
        "id": "xbxeQyQDOyE0"
      }
    },
    {
      "cell_type": "code",
      "source": [
        "grade = int(input(\"Numerical Grade: \"))\n",
        "if grade >=90:\n",
        "  print(\"Character Grade: A\")\n",
        "else:\n",
        "  if grade <=90 and grade >=80:\n",
        "    print(\"Character Grade: B\")\n",
        "  else:\n",
        "    if grade <=80 and grade >=70:\n",
        "      print(\"Character Grade: C\")\n",
        "    else:\n",
        "      if grade <=70 and grade >=60:\n",
        "        print(\"Character Grade: D\")\n",
        "      else:\n",
        "        print(\"Character Grade: F\")"
      ],
      "metadata": {
        "colab": {
          "base_uri": "https://localhost:8080/"
        },
        "id": "QZv5sRuwf9sB",
        "outputId": "006dfd60-5ad6-4b5a-ee36-1df0e40d6195"
      },
      "execution_count": null,
      "outputs": [
        {
          "output_type": "stream",
          "name": "stdout",
          "text": [
            "Numerical Grade: 89\n",
            "Character Grade: B\n"
          ]
        }
      ]
    }
  ]
}