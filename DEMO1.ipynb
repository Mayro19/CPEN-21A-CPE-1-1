{
  "nbformat": 4,
  "nbformat_minor": 0,
  "metadata": {
    "colab": {
      "name": "Untitled0.ipynb",
      "provenance": [],
      "authorship_tag": "ABX9TyPNafMMcJ9Z4hAG/OiYtIrc",
      "include_colab_link": true
    },
    "kernelspec": {
      "name": "python3",
      "display_name": "Python 3"
    },
    "language_info": {
      "name": "python"
    }
  },
  "cells": [
    {
      "cell_type": "markdown",
      "metadata": {
        "id": "view-in-github",
        "colab_type": "text"
      },
      "source": [
        "<a href=\"https://colab.research.google.com/github/Mayro19/CPEN-21A-CPE-1-1/blob/main/DEMO1.ipynb\" target=\"_parent\"><img src=\"https://colab.research.google.com/assets/colab-badge.svg\" alt=\"Open In Colab\"/></a>"
      ]
    },
    {
      "cell_type": "code",
      "metadata": {
        "id": "Gv7OC3GyiAzx"
      },
      "source": [
        ""
      ],
      "execution_count": null,
      "outputs": []
    },
    {
      "cell_type": "markdown",
      "metadata": {
        "id": "rdBQdIFaiDzs"
      },
      "source": [
        "##Introduction to Python Programming"
      ]
    },
    {
      "cell_type": "code",
      "metadata": {
        "colab": {
          "base_uri": "https://localhost:8080/"
        },
        "id": "sJ38zzDTiJqT",
        "outputId": "891fccbf-32aa-4351-f583-d80a0063b7f9"
      },
      "source": [
        "b = \"sally\"\n",
        "print(b)"
      ],
      "execution_count": 1,
      "outputs": [
        {
          "output_type": "stream",
          "name": "stdout",
          "text": [
            "sally\n"
          ]
        }
      ]
    },
    {
      "cell_type": "markdown",
      "metadata": {
        "id": "8JuPl_9zjTVN"
      },
      "source": [
        "##Naming Variables"
      ]
    },
    {
      "cell_type": "code",
      "metadata": {
        "colab": {
          "base_uri": "https://localhost:8080/"
        },
        "id": "008qp8MJiTxs",
        "outputId": "3e1bda8e-3047-4f5e-f673-79b59322721c"
      },
      "source": [
        "b = \"sally\"\n",
        "print(type(b))"
      ],
      "execution_count": 2,
      "outputs": [
        {
          "output_type": "stream",
          "name": "stdout",
          "text": [
            "<class 'str'>\n"
          ]
        }
      ]
    },
    {
      "cell_type": "code",
      "metadata": {
        "colab": {
          "base_uri": "https://localhost:8080/"
        },
        "id": "di8LYTaOibFE",
        "outputId": "683629c7-ebc7-4240-dfe7-1c3bdb5d169c"
      },
      "source": [
        "a = \"sally\"\n",
        "A = \"john\"\n",
        "B = \"miro\"\n",
        "print(a)\n",
        "print(A)\n",
        "print(B)"
      ],
      "execution_count": 5,
      "outputs": [
        {
          "output_type": "stream",
          "name": "stdout",
          "text": [
            "sally\n",
            "john\n",
            "miro\n"
          ]
        }
      ]
    },
    {
      "cell_type": "code",
      "metadata": {
        "colab": {
          "base_uri": "https://localhost:8080/"
        },
        "id": "iF7WczzkjnhI",
        "outputId": "8d8eae55-a824-4d0f-ddfb-e6c29c956315"
      },
      "source": [
        "a, b, c = 0, 1, 2\n",
        "print(type(a))          #This is a program using type function\n",
        "print(b)\n",
        "print(c)"
      ],
      "execution_count": 7,
      "outputs": [
        {
          "output_type": "stream",
          "name": "stdout",
          "text": [
            "<class 'int'>\n",
            "1\n",
            "2\n"
          ]
        }
      ]
    },
    {
      "cell_type": "code",
      "metadata": {
        "colab": {
          "base_uri": "https://localhost:8080/"
        },
        "id": "D5XqHOF4kFPM",
        "outputId": "0d051ca3-6a2d-4e79-8ec1-a37ccd6f94a4"
      },
      "source": [
        "a = 4.50\n",
        "print(type(a))"
      ],
      "execution_count": 6,
      "outputs": [
        {
          "output_type": "stream",
          "name": "stdout",
          "text": [
            "<class 'float'>\n"
          ]
        }
      ]
    },
    {
      "cell_type": "markdown",
      "metadata": {
        "id": "LWvm-no1kMur"
      },
      "source": [
        "###One value to multiple variables\n"
      ]
    },
    {
      "cell_type": "code",
      "metadata": {
        "colab": {
          "base_uri": "https://localhost:8080/"
        },
        "id": "6ySTADw3kTQ1",
        "outputId": "a1e0fc93-a436-4f45-9179-0aaf0725dfb2"
      },
      "source": [
        "x = y = z = \"four\"\n",
        "print(x)\n",
        "print(y)\n",
        "print(z)"
      ],
      "execution_count": 8,
      "outputs": [
        {
          "output_type": "stream",
          "name": "stdout",
          "text": [
            "four\n",
            "four\n",
            "four\n"
          ]
        }
      ]
    },
    {
      "cell_type": "code",
      "metadata": {
        "colab": {
          "base_uri": "https://localhost:8080/"
        },
        "id": "09XIZaN9kgFV",
        "outputId": "d61caaf7-0feb-451e-9990-ab786bbc4484"
      },
      "source": [
        "x = \"enjoying\"\n",
        "print(\"Python programming is super \" + x)"
      ],
      "execution_count": 9,
      "outputs": [
        {
          "output_type": "stream",
          "name": "stdout",
          "text": [
            "Python programming is super enjoying\n"
          ]
        }
      ]
    },
    {
      "cell_type": "code",
      "metadata": {
        "colab": {
          "base_uri": "https://localhost:8080/"
        },
        "id": "lzR1_C4CkqOC",
        "outputId": "c699582a-ce89-4a6d-cb29-66bc5fb75e2c"
      },
      "source": [
        "x = 4\n",
        "y = 5\n",
        "print(x+y)\n",
        "print(x-y)"
      ],
      "execution_count": 10,
      "outputs": [
        {
          "output_type": "stream",
          "name": "stdout",
          "text": [
            "9\n",
            "-1\n"
          ]
        }
      ]
    },
    {
      "cell_type": "code",
      "metadata": {
        "colab": {
          "base_uri": "https://localhost:8080/"
        },
        "id": "qz6imtkSk1BL",
        "outputId": "4e9d2b83-fe5e-4d6c-8dbb-453ad10707df"
      },
      "source": [
        "(x>y or x == x)      #This is an example of program using a logical operator"
      ],
      "execution_count": 11,
      "outputs": [
        {
          "output_type": "execute_result",
          "data": {
            "text/plain": [
              "True"
            ]
          },
          "metadata": {},
          "execution_count": 11
        }
      ]
    },
    {
      "cell_type": "code",
      "metadata": {
        "colab": {
          "base_uri": "https://localhost:8080/"
        },
        "id": "2V0aFHOsk91U",
        "outputId": "4a846535-da5a-4d27-a5b4-903c6c48c1f8"
      },
      "source": [
        "not(x>y or  x == x)"
      ],
      "execution_count": 12,
      "outputs": [
        {
          "output_type": "execute_result",
          "data": {
            "text/plain": [
              "False"
            ]
          },
          "metadata": {},
          "execution_count": 12
        }
      ]
    }
  ]
}