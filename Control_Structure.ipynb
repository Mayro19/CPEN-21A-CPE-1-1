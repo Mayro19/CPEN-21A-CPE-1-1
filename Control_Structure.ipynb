{
  "nbformat": 4,
  "nbformat_minor": 0,
  "metadata": {
    "colab": {
      "name": "Control Structure.ipynb",
      "provenance": [],
      "authorship_tag": "ABX9TyO+VljFMdCNFh1T/7mUkYjv",
      "include_colab_link": true
    },
    "kernelspec": {
      "name": "python3",
      "display_name": "Python 3"
    },
    "language_info": {
      "name": "python"
    }
  },
  "cells": [
    {
      "cell_type": "markdown",
      "metadata": {
        "id": "view-in-github",
        "colab_type": "text"
      },
      "source": [
        "<a href=\"https://colab.research.google.com/github/Mayro19/CPEN-21A-CPE-1-1/blob/main/Control_Structure.ipynb\" target=\"_parent\"><img src=\"https://colab.research.google.com/assets/colab-badge.svg\" alt=\"Open In Colab\"/></a>"
      ]
    },
    {
      "cell_type": "code",
      "metadata": {
        "id": "zz3F-72ZmO6h"
      },
      "source": [
        ""
      ],
      "execution_count": null,
      "outputs": []
    },
    {
      "cell_type": "markdown",
      "metadata": {
        "id": "kYxuAA4jmTC6"
      },
      "source": [
        "##If statement"
      ]
    },
    {
      "cell_type": "code",
      "metadata": {
        "colab": {
          "base_uri": "https://localhost:8080/"
        },
        "id": "7i9QBULfmV0J",
        "outputId": "26d0097a-c2ff-40e8-c5d2-a307924a1479"
      },
      "source": [
        "a=12\n",
        "b=100\n",
        "if b>a:\n",
        "  print(\"b is greater than a\")"
      ],
      "execution_count": 1,
      "outputs": [
        {
          "output_type": "stream",
          "name": "stdout",
          "text": [
            "b is greater than a\n"
          ]
        }
      ]
    },
    {
      "cell_type": "markdown",
      "metadata": {
        "id": "ybqmSRVPoczi"
      },
      "source": [
        "##Elif Condition"
      ]
    },
    {
      "cell_type": "code",
      "metadata": {
        "colab": {
          "base_uri": "https://localhost:8080/"
        },
        "id": "h9AAMAqNofqg",
        "outputId": "d8e20c20-66a4-4484-f4c1-f9577a211d00"
      },
      "source": [
        "a=12\n",
        "b=12\n",
        "if b>a:\n",
        "  print('b is greater than a')\n",
        "elif a==b:\n",
        "  print('a and b are equal')"
      ],
      "execution_count": 2,
      "outputs": [
        {
          "output_type": "stream",
          "name": "stdout",
          "text": [
            "a and b are equal\n"
          ]
        }
      ]
    },
    {
      "cell_type": "markdown",
      "metadata": {
        "id": "S7R5awyZpWcX"
      },
      "source": [
        "##Else statement"
      ]
    },
    {
      "cell_type": "code",
      "metadata": {
        "colab": {
          "base_uri": "https://localhost:8080/"
        },
        "id": "BsNl1arRpYeH",
        "outputId": "defced84-0d70-4119-b20d-2590374d1509"
      },
      "source": [
        "a=200\n",
        "b=33\n",
        "if b>a:\n",
        "  print('b is greater than a')\n",
        "elif a==b:\n",
        "  print('a and b are equal')\n",
        "else:\n",
        "  print('a is greater than b')"
      ],
      "execution_count": 3,
      "outputs": [
        {
          "output_type": "stream",
          "name": "stdout",
          "text": [
            "a is greater than b\n"
          ]
        }
      ]
    },
    {
      "cell_type": "code",
      "metadata": {
        "colab": {
          "base_uri": "https://localhost:8080/"
        },
        "id": "HpIPFc1zqQPy",
        "outputId": "2eebd120-73c4-46d9-e0c2-8dbda7db8418"
      },
      "source": [
        "a=120\n",
        "b=12\n",
        "\n",
        "if b>a:\n",
        "  print('b is greater than a')\n",
        "elif a==b:\n",
        "  print('a is equal to b')\n",
        "else:\n",
        "  print('b is less than a')"
      ],
      "execution_count": 4,
      "outputs": [
        {
          "output_type": "stream",
          "name": "stdout",
          "text": [
            "b is less than a\n"
          ]
        }
      ]
    },
    {
      "cell_type": "markdown",
      "metadata": {
        "id": "HmrQLWojqlM5"
      },
      "source": [
        "##Short hand If Statement"
      ]
    },
    {
      "cell_type": "code",
      "metadata": {
        "colab": {
          "base_uri": "https://localhost:8080/"
        },
        "id": "5QfdYIGEqq74",
        "outputId": "6e7c1b58-e695-48a1-8729-e0701290b9d7"
      },
      "source": [
        "if a>b: print('a is greater than b')"
      ],
      "execution_count": 5,
      "outputs": [
        {
          "output_type": "stream",
          "name": "stdout",
          "text": [
            "a is greater than b\n"
          ]
        }
      ]
    },
    {
      "cell_type": "markdown",
      "metadata": {
        "id": "LYXDrrojrKSX"
      },
      "source": [
        "##Short hand If..Else Statement"
      ]
    },
    {
      "cell_type": "code",
      "metadata": {
        "colab": {
          "base_uri": "https://localhost:8080/"
        },
        "id": "2ozddwHYrPSf",
        "outputId": "fff515f0-01b1-4efa-eba8-e3ec6fa5f616"
      },
      "source": [
        "print('a is greater than b') if a>b else print('b is greater than a')"
      ],
      "execution_count": 6,
      "outputs": [
        {
          "output_type": "stream",
          "name": "stdout",
          "text": [
            "a is greater than b\n"
          ]
        }
      ]
    },
    {
      "cell_type": "markdown",
      "metadata": {
        "id": "T4XQdA4Mr6lA"
      },
      "source": [
        "And-both conditions are true"
      ]
    },
    {
      "cell_type": "code",
      "metadata": {
        "colab": {
          "base_uri": "https://localhost:8080/"
        },
        "id": "4okLDoHHsF3g",
        "outputId": "a9d9848f-9198-4b2c-baa5-8eaa18eb4971"
      },
      "source": [
        "a=200\n",
        "b=33\n",
        "c=500\n",
        "\n",
        "if a>b and c>a:\n",
        "  print('Both conditions are True')"
      ],
      "execution_count": 8,
      "outputs": [
        {
          "output_type": "stream",
          "name": "stdout",
          "text": [
            "Both conditions are True\n"
          ]
        }
      ]
    },
    {
      "cell_type": "code",
      "metadata": {
        "colab": {
          "base_uri": "https://localhost:8080/"
        },
        "id": "f6g0XNxEuY5Y",
        "outputId": "3569dc3c-0caa-47b2-e8ff-996d1a71aed0"
      },
      "source": [
        "a=15\n",
        "b=35\n",
        "\n",
        "if b>a and a<b:\n",
        "  print('Both conditions are True')\n",
        "elif b<a and a>b:\n",
        "  print(\"a is larger than b\")\n",
        "else:\n",
        "  print('none of the above')"
      ],
      "execution_count": 10,
      "outputs": [
        {
          "output_type": "stream",
          "name": "stdout",
          "text": [
            "Both conditions are True\n"
          ]
        }
      ]
    },
    {
      "cell_type": "markdown",
      "metadata": {
        "id": "Ci1sU8SSvPJp"
      },
      "source": [
        "Or Condition"
      ]
    },
    {
      "cell_type": "code",
      "metadata": {
        "colab": {
          "base_uri": "https://localhost:8080/"
        },
        "id": "SKxTalnKvRti",
        "outputId": "19bcc7a4-d0db-4b21-c76c-70f182eae20f"
      },
      "source": [
        "a=15\n",
        "b=35\n",
        "\n",
        "if b>a or a==b:\n",
        "  print('True')\n",
        "elif b==b or a>b:\n",
        "  print('Absolutely True')\n",
        "else:\n",
        "  print('Nothing to compare')"
      ],
      "execution_count": 12,
      "outputs": [
        {
          "output_type": "stream",
          "name": "stdout",
          "text": [
            "True\n"
          ]
        }
      ]
    },
    {
      "cell_type": "markdown",
      "metadata": {
        "id": "3aXFtZdswp8q"
      },
      "source": [
        "Nested If"
      ]
    },
    {
      "cell_type": "code",
      "metadata": {
        "colab": {
          "base_uri": "https://localhost:8080/"
        },
        "id": "GlSovLJfwrYw",
        "outputId": "281b02c7-0b4c-490b-cb8c-c6bbd9cb9602"
      },
      "source": [
        "x=41\n",
        "\n",
        "if x>10:\n",
        "  print('Above ten,')\n",
        "  if x>20:\n",
        "    print('and also above 20!')\n",
        "  else:\n",
        "    print('but not above 20.')"
      ],
      "execution_count": 13,
      "outputs": [
        {
          "output_type": "stream",
          "name": "stdout",
          "text": [
            "Above ten,\n",
            "and also above 20!\n"
          ]
        }
      ]
    },
    {
      "cell_type": "markdown",
      "metadata": {
        "id": "4fCyd5QYyM7o"
      },
      "source": [
        "Application of If..Else Statement"
      ]
    },
    {
      "cell_type": "code",
      "metadata": {
        "colab": {
          "base_uri": "https://localhost:8080/"
        },
        "id": "zADMnnGuyRbJ",
        "outputId": "21b7a084-160a-4a20-f469-9cf9da3c6a61"
      },
      "source": [
        "#Example 1\n",
        "\n",
        "age=18\n",
        "\n",
        "if age>=18:\n",
        "  print('you are qualified to vote!')\n",
        "else:\n",
        "  print('you are not qualified to vote!')"
      ],
      "execution_count": 15,
      "outputs": [
        {
          "output_type": "stream",
          "name": "stdout",
          "text": [
            "you are qualified to vote!\n"
          ]
        }
      ]
    },
    {
      "cell_type": "code",
      "metadata": {
        "colab": {
          "base_uri": "https://localhost:8080/"
        },
        "id": "clDSCk1AzQGw",
        "outputId": "2d9ac755-0cea-42ad-a545-8218f749dfbd"
      },
      "source": [
        "#Example 2\n",
        "\n",
        "number= int(input('Enter the number'))\n",
        "\n",
        "if number==0:\n",
        "  print('Zero')\n",
        "elif number>0:\n",
        "  print('Positive')\n",
        "else:\n",
        "  print('Negative')"
      ],
      "execution_count": 21,
      "outputs": [
        {
          "output_type": "stream",
          "name": "stdout",
          "text": [
            "Enter the number91\n",
            "Positive\n"
          ]
        }
      ]
    },
    {
      "cell_type": "code",
      "metadata": {
        "colab": {
          "base_uri": "https://localhost:8080/"
        },
        "id": "qTUvdnSJ0Q_5",
        "outputId": "422860f6-5d4d-44d0-ece0-a3650ae6d481"
      },
      "source": [
        "#Example 3\n",
        "\n",
        "grade= int(input('Enter the Grade:'))\n",
        "\n",
        "if grade>=75:\n",
        "  print('Passed')\n",
        "elif grade==74:\n",
        "  print('Remedial')\n",
        "else:\n",
        "  print('Failed')"
      ],
      "execution_count": 25,
      "outputs": [
        {
          "output_type": "stream",
          "name": "stdout",
          "text": [
            "Enter the Grade:80\n",
            "Passed\n"
          ]
        }
      ]
    }
  ]
}